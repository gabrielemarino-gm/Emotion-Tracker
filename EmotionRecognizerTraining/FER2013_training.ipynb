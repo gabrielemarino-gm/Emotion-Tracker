{
  "nbformat": 4,
  "nbformat_minor": 0,
  "metadata": {
    "colab": {
      "provenance": []
    },
    "kernelspec": {
      "name": "python3",
      "display_name": "Python 3"
    },
    "language_info": {
      "name": "python"
    }
  },
  "cells": [
    {
      "cell_type": "code",
      "execution_count": null,
      "metadata": {
        "colab": {
          "base_uri": "https://localhost:8080/"
        },
        "id": "RoSwpybCgArR",
        "outputId": "a5b66a2c-66d4-41d9-9000-f6af25ae364b"
      },
      "outputs": [
        {
          "output_type": "stream",
          "name": "stdout",
          "text": [
            "Drive already mounted at /content/drive; to attempt to forcibly remount, call drive.mount(\"/content/drive\", force_remount=True).\n"
          ]
        }
      ],
      "source": [
        "from google.colab import drive\n",
        "drive.mount('/content/drive')"
      ]
    },
    {
      "cell_type": "code",
      "source": [
        "# copy dataset in Google Colab vm\n",
        "!cp /content/drive/MyDrive/fer2013.csv ."
      ],
      "metadata": {
        "id": "kmWmivrvgD_T"
      },
      "execution_count": null,
      "outputs": []
    },
    {
      "cell_type": "code",
      "source": [
        "import pandas as pd\n",
        "\n",
        "# read dataset\n",
        "df = pd.read_csv('fer2013.csv')\n",
        "\n",
        "df.shape"
      ],
      "metadata": {
        "colab": {
          "base_uri": "https://localhost:8080/"
        },
        "id": "JUzNoePegMEK",
        "outputId": "e19f8807-9124-40ad-f991-ca32d4a042cc"
      },
      "execution_count": null,
      "outputs": [
        {
          "output_type": "execute_result",
          "data": {
            "text/plain": [
              "(35887, 3)"
            ]
          },
          "metadata": {},
          "execution_count": 3
        }
      ]
    },
    {
      "cell_type": "code",
      "source": [
        "# drop emotions not related to use case\n",
        "df = df.drop(df[df.emotion==1].index)\n",
        "df = df.drop(df[df.emotion==2].index)\n",
        "df = df.drop(df[df.emotion==5].index)\n",
        "df = df.drop(df[df.emotion==6].index)\n",
        "df.shape"
      ],
      "metadata": {
        "colab": {
          "base_uri": "https://localhost:8080/"
        },
        "id": "G4Pul4LqgZEx",
        "outputId": "77c32165-4042-4fc8-fda5-e9dad15d2377"
      },
      "execution_count": null,
      "outputs": [
        {
          "output_type": "execute_result",
          "data": {
            "text/plain": [
              "(20019, 3)"
            ]
          },
          "metadata": {},
          "execution_count": 4
        }
      ]
    },
    {
      "cell_type": "code",
      "source": [
        "# binary classification\n",
        "emotions = {\n",
        "    0:\"Negative\",\n",
        "    1:\"Positive\",\n",
        "}"
      ],
      "metadata": {
        "id": "5OU-w9oWglux"
      },
      "execution_count": null,
      "outputs": []
    },
    {
      "cell_type": "code",
      "source": [
        "# convert sadness to negative, and happiness to positive\n",
        "df.loc[df[\"emotion\"] == 3, \"emotion\"] = 1\n",
        "df.loc[df[\"emotion\"] == 4, \"emotion\"] = 0"
      ],
      "metadata": {
        "id": "UOUR12PcuJdL"
      },
      "execution_count": null,
      "outputs": []
    },
    {
      "cell_type": "code",
      "source": [
        "# check class balancement\n",
        "count_emotions = (df.groupby(df['emotion'])['pixels'].count()).to_frame()\n",
        "count_emotions['emotion name'] = [emotions[k] for k in emotions.keys()]\n",
        "count_emotions"
      ],
      "metadata": {
        "colab": {
          "base_uri": "https://localhost:8080/",
          "height": 143
        },
        "id": "plhQVvwlvfrA",
        "outputId": "8b53f766-1be4-43f3-9801-9af4e9e7e1be"
      },
      "execution_count": null,
      "outputs": [
        {
          "output_type": "execute_result",
          "data": {
            "text/plain": [
              "         pixels emotion name\n",
              "emotion                     \n",
              "0         11030     Negative\n",
              "1          8989     Positive"
            ],
            "text/html": [
              "\n",
              "  <div id=\"df-ecfaedc3-0adf-467f-8a7c-4fbcca630d7d\">\n",
              "    <div class=\"colab-df-container\">\n",
              "      <div>\n",
              "<style scoped>\n",
              "    .dataframe tbody tr th:only-of-type {\n",
              "        vertical-align: middle;\n",
              "    }\n",
              "\n",
              "    .dataframe tbody tr th {\n",
              "        vertical-align: top;\n",
              "    }\n",
              "\n",
              "    .dataframe thead th {\n",
              "        text-align: right;\n",
              "    }\n",
              "</style>\n",
              "<table border=\"1\" class=\"dataframe\">\n",
              "  <thead>\n",
              "    <tr style=\"text-align: right;\">\n",
              "      <th></th>\n",
              "      <th>pixels</th>\n",
              "      <th>emotion name</th>\n",
              "    </tr>\n",
              "    <tr>\n",
              "      <th>emotion</th>\n",
              "      <th></th>\n",
              "      <th></th>\n",
              "    </tr>\n",
              "  </thead>\n",
              "  <tbody>\n",
              "    <tr>\n",
              "      <th>0</th>\n",
              "      <td>11030</td>\n",
              "      <td>Negative</td>\n",
              "    </tr>\n",
              "    <tr>\n",
              "      <th>1</th>\n",
              "      <td>8989</td>\n",
              "      <td>Positive</td>\n",
              "    </tr>\n",
              "  </tbody>\n",
              "</table>\n",
              "</div>\n",
              "      <button class=\"colab-df-convert\" onclick=\"convertToInteractive('df-ecfaedc3-0adf-467f-8a7c-4fbcca630d7d')\"\n",
              "              title=\"Convert this dataframe to an interactive table.\"\n",
              "              style=\"display:none;\">\n",
              "        \n",
              "  <svg xmlns=\"http://www.w3.org/2000/svg\" height=\"24px\"viewBox=\"0 0 24 24\"\n",
              "       width=\"24px\">\n",
              "    <path d=\"M0 0h24v24H0V0z\" fill=\"none\"/>\n",
              "    <path d=\"M18.56 5.44l.94 2.06.94-2.06 2.06-.94-2.06-.94-.94-2.06-.94 2.06-2.06.94zm-11 1L8.5 8.5l.94-2.06 2.06-.94-2.06-.94L8.5 2.5l-.94 2.06-2.06.94zm10 10l.94 2.06.94-2.06 2.06-.94-2.06-.94-.94-2.06-.94 2.06-2.06.94z\"/><path d=\"M17.41 7.96l-1.37-1.37c-.4-.4-.92-.59-1.43-.59-.52 0-1.04.2-1.43.59L10.3 9.45l-7.72 7.72c-.78.78-.78 2.05 0 2.83L4 21.41c.39.39.9.59 1.41.59.51 0 1.02-.2 1.41-.59l7.78-7.78 2.81-2.81c.8-.78.8-2.07 0-2.86zM5.41 20L4 18.59l7.72-7.72 1.47 1.35L5.41 20z\"/>\n",
              "  </svg>\n",
              "      </button>\n",
              "      \n",
              "  <style>\n",
              "    .colab-df-container {\n",
              "      display:flex;\n",
              "      flex-wrap:wrap;\n",
              "      gap: 12px;\n",
              "    }\n",
              "\n",
              "    .colab-df-convert {\n",
              "      background-color: #E8F0FE;\n",
              "      border: none;\n",
              "      border-radius: 50%;\n",
              "      cursor: pointer;\n",
              "      display: none;\n",
              "      fill: #1967D2;\n",
              "      height: 32px;\n",
              "      padding: 0 0 0 0;\n",
              "      width: 32px;\n",
              "    }\n",
              "\n",
              "    .colab-df-convert:hover {\n",
              "      background-color: #E2EBFA;\n",
              "      box-shadow: 0px 1px 2px rgba(60, 64, 67, 0.3), 0px 1px 3px 1px rgba(60, 64, 67, 0.15);\n",
              "      fill: #174EA6;\n",
              "    }\n",
              "\n",
              "    [theme=dark] .colab-df-convert {\n",
              "      background-color: #3B4455;\n",
              "      fill: #D2E3FC;\n",
              "    }\n",
              "\n",
              "    [theme=dark] .colab-df-convert:hover {\n",
              "      background-color: #434B5C;\n",
              "      box-shadow: 0px 1px 3px 1px rgba(0, 0, 0, 0.15);\n",
              "      filter: drop-shadow(0px 1px 2px rgba(0, 0, 0, 0.3));\n",
              "      fill: #FFFFFF;\n",
              "    }\n",
              "  </style>\n",
              "\n",
              "      <script>\n",
              "        const buttonEl =\n",
              "          document.querySelector('#df-ecfaedc3-0adf-467f-8a7c-4fbcca630d7d button.colab-df-convert');\n",
              "        buttonEl.style.display =\n",
              "          google.colab.kernel.accessAllowed ? 'block' : 'none';\n",
              "\n",
              "        async function convertToInteractive(key) {\n",
              "          const element = document.querySelector('#df-ecfaedc3-0adf-467f-8a7c-4fbcca630d7d');\n",
              "          const dataTable =\n",
              "            await google.colab.kernel.invokeFunction('convertToInteractive',\n",
              "                                                     [key], {});\n",
              "          if (!dataTable) return;\n",
              "\n",
              "          const docLinkHtml = 'Like what you see? Visit the ' +\n",
              "            '<a target=\"_blank\" href=https://colab.research.google.com/notebooks/data_table.ipynb>data table notebook</a>'\n",
              "            + ' to learn more about interactive tables.';\n",
              "          element.innerHTML = '';\n",
              "          dataTable['output_type'] = 'display_data';\n",
              "          await google.colab.output.renderOutput(dataTable, element);\n",
              "          const docLink = document.createElement('div');\n",
              "          docLink.innerHTML = docLinkHtml;\n",
              "          element.appendChild(docLink);\n",
              "        }\n",
              "      </script>\n",
              "    </div>\n",
              "  </div>\n",
              "  "
            ]
          },
          "metadata": {},
          "execution_count": 7
        }
      ]
    },
    {
      "cell_type": "code",
      "source": [
        "import numpy as np\n",
        "import matplotlib.pyplot as plt\n",
        "\n",
        "def visualize_image(image, figsize=(3, 3)):\n",
        "    # image = np.array(image, dtype=np.uint8)\n",
        "    plt.figure(figsize=figsize)\n",
        "    plt.axis(\"off\")\n",
        "    plt.imshow(image, cmap='gray')\n",
        "    return plt"
      ],
      "metadata": {
        "id": "S-z0fATlgu__"
      },
      "execution_count": null,
      "outputs": []
    },
    {
      "cell_type": "code",
      "source": [
        "# create arrays to use for training, validation and and test\n",
        "X_train,Y_train = [],[]\n",
        "X_val,Y_val = [],[]\n",
        "X_test,Y_test = [],[]\n",
        "for index,row in df.iterrows():\n",
        "    if index % 2000 == 0:\n",
        "      print(index)\n",
        "    k = row['pixels'].split(\" \")\n",
        "    if row['Usage'] == 'Training':\n",
        "        X_train.append(np.array(k))\n",
        "        Y_train.append(row['emotion'])\n",
        "    elif row['Usage'] == 'PublicTest':\n",
        "        X_test.append(np.array(k))\n",
        "        Y_test.append(row['emotion'])\n",
        "    elif row['Usage'] == 'PrivateTest':\n",
        "        X_val.append(np.array(k))\n",
        "        Y_val.append(row['emotion'])\n",
        "\n",
        "X_train = np.array(X_train,dtype='float')\n",
        "Y_train = np.array(Y_train)\n",
        "X_test = np.array(X_test,dtype='float')\n",
        "Y_test = np.array(Y_test)\n",
        "X_val = np.array(X_val,dtype='float')\n",
        "Y_val = np.array(Y_val)"
      ],
      "metadata": {
        "colab": {
          "base_uri": "https://localhost:8080/"
        },
        "id": "kzpwYuAhg1MK",
        "outputId": "2df780fd-a6f7-4d72-cf20-ec394b37347e"
      },
      "execution_count": null,
      "outputs": [
        {
          "output_type": "stream",
          "name": "stdout",
          "text": [
            "0\n",
            "4000\n",
            "6000\n",
            "8000\n",
            "10000\n",
            "12000\n",
            "18000\n",
            "20000\n",
            "22000\n",
            "24000\n",
            "30000\n"
          ]
        }
      ]
    },
    {
      "cell_type": "code",
      "source": [
        "# reshape pixel arrays in a 48*48 matrix representing the image (1 channel only, greyscale)\n",
        "X_train = X_train.reshape(X_train.shape[0],48,48,1)\n",
        "X_test = X_test.reshape(X_test.shape[0],48,48,1)\n",
        "X_val = X_val.reshape(X_val.shape[0],48,48,1)"
      ],
      "metadata": {
        "id": "TSO_i7o3iUVw"
      },
      "execution_count": null,
      "outputs": []
    },
    {
      "cell_type": "code",
      "source": [
        "# check cardinalities and\n",
        "X_train.shape,Y_train.shape,X_test.shape,Y_test.shape,X_val.shape,Y_val.shape"
      ],
      "metadata": {
        "colab": {
          "base_uri": "https://localhost:8080/"
        },
        "id": "SrTf4fsWwK-y",
        "outputId": "4e2feba3-5c70-4a59-d40e-81763acd1fd6"
      },
      "execution_count": null,
      "outputs": [
        {
          "output_type": "execute_result",
          "data": {
            "text/plain": [
              "((16040, 48, 48, 1),\n",
              " (16040,),\n",
              " (2015, 48, 48, 1),\n",
              " (2015,),\n",
              " (1964, 48, 48, 1),\n",
              " (1964,))"
            ]
          },
          "metadata": {},
          "execution_count": 11
        }
      ]
    },
    {
      "cell_type": "code",
      "source": [
        "index_image = 1450\n",
        "visualize_image(X_train[index_image])\n",
        "print(\"Emotion is: {}\".format(emotions[Y_train[index_image]]))"
      ],
      "metadata": {
        "colab": {
          "base_uri": "https://localhost:8080/",
          "height": 286
        },
        "id": "TU0LJUVEi05a",
        "outputId": "4d822f0a-5a3d-4a81-bf2c-bac56d9e2107"
      },
      "execution_count": null,
      "outputs": [
        {
          "output_type": "stream",
          "name": "stdout",
          "text": [
            "Emotion is: Negative\n"
          ]
        },
        {
          "output_type": "display_data",
          "data": {
            "text/plain": [
              "<Figure size 300x300 with 1 Axes>"
            ],
            "image/png": "[encoded data removed]"
          },
          "metadata": {}
        }
      ]
    },
    {
      "cell_type": "code",
      "source": [
        "import tensorflow.keras as keras\n",
        "\n",
        "# instantiate the model\n",
        "input = keras.Input(shape=(48, 48, 1), name=\"input\")\n",
        "model = keras.layers.Conv2D(32, (3, 3), activation='relu')(input)\n",
        "model = keras.layers.Conv2D(64, (3, 3), activation='relu')(model)\n",
        "model = keras.layers.MaxPooling2D((2, 2))(model)\n",
        "model = keras.layers.Conv2D(64, (3, 3), activation='relu')(model)\n",
        "model = keras.layers.Conv2D(128, (3, 3), activation='relu')(model)\n",
        "model = keras.layers.MaxPooling2D((2, 2))(model)\n",
        "model = keras.layers.Conv2D(128, (3, 3), activation='relu')(model)\n",
        "model = keras.layers.Conv2D(256, (3, 3), activation='relu')(model)\n",
        "model = keras.layers.MaxPooling2D((2, 2))(model)\n",
        "model = keras.layers.Flatten()(model)\n",
        "dropout = keras.layers.Dropout(0.8)(model)\n",
        "dense = keras.layers.Dense(32, activation='relu')(dropout)\n",
        "output = keras.layers.Dense(1, activation='sigmoid')(dense)\n",
        "model = keras.Model(input, output)"
      ],
      "metadata": {
        "id": "6BuW1FCqpVfL"
      },
      "execution_count": null,
      "outputs": []
    },
    {
      "cell_type": "code",
      "source": [
        "model.compile(loss='binary_crossentropy', metrics=['accuracy'])"
      ],
      "metadata": {
        "id": "ZKMLU0N5l9f6"
      },
      "execution_count": null,
      "outputs": []
    },
    {
      "cell_type": "code",
      "source": [
        "model.summary()"
      ],
      "metadata": {
        "colab": {
          "base_uri": "https://localhost:8080/"
        },
        "id": "c8NgeBjWmxdo",
        "outputId": "38803313-6a68-41dc-da25-0bf8771c2985"
      },
      "execution_count": null,
      "outputs": [
        {
          "output_type": "stream",
          "name": "stdout",
          "text": [
            "Model: \"model_2\"\n",
            "_________________________________________________________________\n",
            " Layer (type)                Output Shape              Param #   \n",
            "=================================================================\n",
            " input (InputLayer)          [(None, 48, 48, 1)]       0         \n",
            "                                                                 \n",
            " conv2d_12 (Conv2D)          (None, 46, 46, 32)        320       \n",
            "                                                                 \n",
            " conv2d_13 (Conv2D)          (None, 44, 44, 64)        18496     \n",
            "                                                                 \n",
            " max_pooling2d_6 (MaxPooling  (None, 22, 22, 64)       0         \n",
            " 2D)                                                             \n",
            "                                                                 \n",
            " conv2d_14 (Conv2D)          (None, 20, 20, 64)        36928     \n",
            "                                                                 \n",
            " conv2d_15 (Conv2D)          (None, 18, 18, 128)       73856     \n",
            "                                                                 \n",
            " max_pooling2d_7 (MaxPooling  (None, 9, 9, 128)        0         \n",
            " 2D)                                                             \n",
            "                                                                 \n",
            " conv2d_16 (Conv2D)          (None, 7, 7, 128)         147584    \n",
            "                                                                 \n",
            " conv2d_17 (Conv2D)          (None, 5, 5, 256)         295168    \n",
            "                                                                 \n",
            " max_pooling2d_8 (MaxPooling  (None, 2, 2, 256)        0         \n",
            " 2D)                                                             \n",
            "                                                                 \n",
            " flatten_2 (Flatten)         (None, 1024)              0         \n",
            "                                                                 \n",
            " dropout_2 (Dropout)         (None, 1024)              0         \n",
            "                                                                 \n",
            " dense_4 (Dense)             (None, 32)                32800     \n",
            "                                                                 \n",
            " dense_5 (Dense)             (None, 1)                 33        \n",
            "                                                                 \n",
            "=================================================================\n",
            "Total params: 605,185\n",
            "Trainable params: 605,185\n",
            "Non-trainable params: 0\n",
            "_________________________________________________________________\n"
          ]
        }
      ]
    },
    {
      "cell_type": "code",
      "source": [
        "import os\n",
        "model_dir = \"models/\"\n",
        "experiment = \"binary_FER_cnn_3.h5\"\n",
        "save_path = os.path.join(model_dir, experiment)\n",
        "\n",
        "callbacks_list = [\n",
        "    # this callback saves the model that has the lowest validation loss during the training\n",
        "    keras.callbacks.ModelCheckpoint(\n",
        "      filepath=save_path,\n",
        "      monitor=\"val_loss\",\n",
        "      verbose=1,\n",
        "      save_best_only=True),\n",
        "    \n",
        "    # this reduces learning rate when validation loss is not decreasing\n",
        "    keras.callbacks.ReduceLROnPlateau(verbose=1, patience=2, factor=0.8)\n",
        "]"
      ],
      "metadata": {
        "id": "AUdCCrMVrPZM"
      },
      "execution_count": null,
      "outputs": []
    },
    {
      "cell_type": "code",
      "source": [
        "history = model.fit(\n",
        "    X_train,\n",
        "    Y_train,\n",
        "    batch_size=32,\n",
        "    epochs=30,\n",
        "    validation_data=(X_val,Y_val),\n",
        "    callbacks = callbacks_list\n",
        ")"
      ],
      "metadata": {
        "colab": {
          "base_uri": "https://localhost:8080/"
        },
        "id": "bsz-wWZTm6_b",
        "outputId": "633e6248-2b6e-4805-ed29-1992536fc911"
      },
      "execution_count": null,
      "outputs": [
        {
          "output_type": "stream",
          "name": "stdout",
          "text": [
            "Epoch 1/30\n",
            "502/502 [==============================] - ETA: 0s - loss: 0.8042 - accuracy: 0.5393\n",
            "Epoch 1: val_loss improved from inf to 0.66424, saving model to models/binary_FER_cnn_3.h5\n",
            "502/502 [==============================] - 305s 605ms/step - loss: 0.8042 - accuracy: 0.5393 - val_loss: 0.6642 - val_accuracy: 0.5565 - lr: 0.0010\n",
            "Epoch 2/30\n",
            "502/502 [==============================] - ETA: 0s - loss: 0.6750 - accuracy: 0.5915\n",
            "Epoch 2: val_loss improved from 0.66424 to 0.64617, saving model to models/binary_FER_cnn_3.h5\n",
            "502/502 [==============================] - 306s 609ms/step - loss: 0.6750 - accuracy: 0.5915 - val_loss: 0.6462 - val_accuracy: 0.6456 - lr: 0.0010\n",
            "Epoch 3/30\n",
            "502/502 [==============================] - ETA: 0s - loss: 0.5775 - accuracy: 0.7060\n",
            "Epoch 3: val_loss did not improve from 0.64617\n",
            "502/502 [==============================] - 306s 610ms/step - loss: 0.5775 - accuracy: 0.7060 - val_loss: 0.6492 - val_accuracy: 0.6777 - lr: 0.0010\n",
            "Epoch 4/30\n",
            "502/502 [==============================] - ETA: 0s - loss: 0.4388 - accuracy: 0.8066\n",
            "Epoch 4: val_loss improved from 0.64617 to 0.37396, saving model to models/binary_FER_cnn_3.h5\n",
            "502/502 [==============================] - 304s 604ms/step - loss: 0.4388 - accuracy: 0.8066 - val_loss: 0.3740 - val_accuracy: 0.8340 - lr: 0.0010\n",
            "Epoch 5/30\n",
            "502/502 [==============================] - ETA: 0s - loss: 0.3801 - accuracy: 0.8376\n",
            "Epoch 5: val_loss did not improve from 0.37396\n",
            "502/502 [==============================] - 302s 601ms/step - loss: 0.3801 - accuracy: 0.8376 - val_loss: 0.4178 - val_accuracy: 0.8106 - lr: 0.0010\n",
            "Epoch 6/30\n",
            "502/502 [==============================] - ETA: 0s - loss: 0.3544 - accuracy: 0.8541\n",
            "Epoch 6: val_loss improved from 0.37396 to 0.36090, saving model to models/binary_FER_cnn_3.h5\n",
            "502/502 [==============================] - 302s 602ms/step - loss: 0.3544 - accuracy: 0.8541 - val_loss: 0.3609 - val_accuracy: 0.8615 - lr: 0.0010\n",
            "Epoch 7/30\n",
            "502/502 [==============================] - ETA: 0s - loss: 0.3181 - accuracy: 0.8713\n",
            "Epoch 7: val_loss did not improve from 0.36090\n",
            "502/502 [==============================] - 302s 602ms/step - loss: 0.3181 - accuracy: 0.8713 - val_loss: 0.4015 - val_accuracy: 0.8559 - lr: 0.0010\n",
            "Epoch 8/30\n",
            "502/502 [==============================] - ETA: 0s - loss: 0.2970 - accuracy: 0.8793\n",
            "Epoch 8: val_loss did not improve from 0.36090\n",
            "\n",
            "Epoch 8: ReduceLROnPlateau reducing learning rate to 0.000800000037997961.\n",
            "502/502 [==============================] - 306s 611ms/step - loss: 0.2970 - accuracy: 0.8793 - val_loss: 0.3686 - val_accuracy: 0.8783 - lr: 0.0010\n",
            "Epoch 9/30\n",
            "502/502 [==============================] - ETA: 0s - loss: 0.2450 - accuracy: 0.9060\n",
            "Epoch 9: val_loss improved from 0.36090 to 0.33383, saving model to models/binary_FER_cnn_3.h5\n",
            "502/502 [==============================] - 306s 608ms/step - loss: 0.2450 - accuracy: 0.9060 - val_loss: 0.3338 - val_accuracy: 0.8773 - lr: 8.0000e-04\n",
            "Epoch 10/30\n",
            "502/502 [==============================] - ETA: 0s - loss: 0.2251 - accuracy: 0.9163\n",
            "Epoch 10: val_loss improved from 0.33383 to 0.31318, saving model to models/binary_FER_cnn_3.h5\n",
            "502/502 [==============================] - 303s 605ms/step - loss: 0.2251 - accuracy: 0.9163 - val_loss: 0.3132 - val_accuracy: 0.8926 - lr: 8.0000e-04\n",
            "Epoch 11/30\n",
            "502/502 [==============================] - ETA: 0s - loss: 0.2012 - accuracy: 0.9239\n",
            "Epoch 11: val_loss did not improve from 0.31318\n",
            "502/502 [==============================] - 305s 607ms/step - loss: 0.2012 - accuracy: 0.9239 - val_loss: 0.3715 - val_accuracy: 0.8849 - lr: 8.0000e-04\n",
            "Epoch 12/30\n",
            "502/502 [==============================] - ETA: 0s - loss: 0.1895 - accuracy: 0.9294\n",
            "Epoch 12: val_loss did not improve from 0.31318\n",
            "\n",
            "Epoch 12: ReduceLROnPlateau reducing learning rate to 0.0006400000303983689.\n",
            "502/502 [==============================] - 306s 610ms/step - loss: 0.1895 - accuracy: 0.9294 - val_loss: 0.4931 - val_accuracy: 0.8080 - lr: 8.0000e-04\n",
            "Epoch 13/30\n",
            "502/502 [==============================] - ETA: 0s - loss: 0.1571 - accuracy: 0.9430\n",
            "Epoch 13: val_loss did not improve from 0.31318\n",
            "502/502 [==============================] - 303s 604ms/step - loss: 0.1571 - accuracy: 0.9430 - val_loss: 0.4209 - val_accuracy: 0.8763 - lr: 6.4000e-04\n",
            "Epoch 14/30\n",
            "502/502 [==============================] - ETA: 0s - loss: 0.1333 - accuracy: 0.9536\n",
            "Epoch 14: val_loss did not improve from 0.31318\n",
            "\n",
            "Epoch 14: ReduceLROnPlateau reducing learning rate to 0.0005120000336319208.\n",
            "502/502 [==============================] - 304s 605ms/step - loss: 0.1333 - accuracy: 0.9536 - val_loss: 0.3506 - val_accuracy: 0.8880 - lr: 6.4000e-04\n",
            "Epoch 15/30\n",
            "502/502 [==============================] - ETA: 0s - loss: 0.1036 - accuracy: 0.9637\n",
            "Epoch 15: val_loss did not improve from 0.31318\n",
            "502/502 [==============================] - 307s 612ms/step - loss: 0.1036 - accuracy: 0.9637 - val_loss: 0.4904 - val_accuracy: 0.8753 - lr: 5.1200e-04\n",
            "Epoch 16/30\n",
            "502/502 [==============================] - ETA: 0s - loss: 0.0931 - accuracy: 0.9670\n",
            "Epoch 16: val_loss did not improve from 0.31318\n",
            "\n",
            "Epoch 16: ReduceLROnPlateau reducing learning rate to 0.00040960004553198815.\n",
            "502/502 [==============================] - 307s 611ms/step - loss: 0.0931 - accuracy: 0.9670 - val_loss: 0.4669 - val_accuracy: 0.8401 - lr: 5.1200e-04\n",
            "Epoch 17/30\n",
            "502/502 [==============================] - ETA: 0s - loss: 0.0731 - accuracy: 0.9770\n",
            "Epoch 17: val_loss did not improve from 0.31318\n",
            "502/502 [==============================] - 303s 604ms/step - loss: 0.0731 - accuracy: 0.9770 - val_loss: 0.5520 - val_accuracy: 0.8829 - lr: 4.0960e-04\n",
            "Epoch 18/30\n",
            "502/502 [==============================] - ETA: 0s - loss: 0.0602 - accuracy: 0.9801\n",
            "Epoch 18: val_loss did not improve from 0.31318\n",
            "\n",
            "Epoch 18: ReduceLROnPlateau reducing learning rate to 0.00032768002711236477.\n",
            "502/502 [==============================] - 303s 604ms/step - loss: 0.0602 - accuracy: 0.9801 - val_loss: 0.5334 - val_accuracy: 0.8865 - lr: 4.0960e-04\n",
            "Epoch 19/30\n",
            "502/502 [==============================] - ETA: 0s - loss: 0.0436 - accuracy: 0.9864\n",
            "Epoch 19: val_loss did not improve from 0.31318\n",
            "502/502 [==============================] - 304s 605ms/step - loss: 0.0436 - accuracy: 0.9864 - val_loss: 0.6106 - val_accuracy: 0.8966 - lr: 3.2768e-04\n",
            "Epoch 20/30\n",
            "502/502 [==============================] - ETA: 0s - loss: 0.0373 - accuracy: 0.9887\n",
            "Epoch 20: val_loss did not improve from 0.31318\n",
            "\n",
            "Epoch 20: ReduceLROnPlateau reducing learning rate to 0.0002621440216898918.\n",
            "502/502 [==============================] - 304s 606ms/step - loss: 0.0373 - accuracy: 0.9887 - val_loss: 0.7252 - val_accuracy: 0.8798 - lr: 3.2768e-04\n",
            "Epoch 21/30\n",
            "502/502 [==============================] - ETA: 0s - loss: 0.0310 - accuracy: 0.9907\n",
            "Epoch 21: val_loss did not improve from 0.31318\n",
            "502/502 [==============================] - 305s 607ms/step - loss: 0.0310 - accuracy: 0.9907 - val_loss: 0.8021 - val_accuracy: 0.8870 - lr: 2.6214e-04\n",
            "Epoch 22/30\n",
            "502/502 [==============================] - ETA: 0s - loss: 0.0243 - accuracy: 0.9916\n",
            "Epoch 22: val_loss did not improve from 0.31318\n",
            "\n",
            "Epoch 22: ReduceLROnPlateau reducing learning rate to 0.00020971521735191345.\n",
            "502/502 [==============================] - 307s 612ms/step - loss: 0.0243 - accuracy: 0.9916 - val_loss: 0.9270 - val_accuracy: 0.8849 - lr: 2.6214e-04\n",
            "Epoch 23/30\n",
            "502/502 [==============================] - ETA: 0s - loss: 0.0169 - accuracy: 0.9948\n",
            "Epoch 23: val_loss did not improve from 0.31318\n",
            "502/502 [==============================] - 307s 612ms/step - loss: 0.0169 - accuracy: 0.9948 - val_loss: 0.9475 - val_accuracy: 0.8880 - lr: 2.0972e-04\n",
            "Epoch 24/30\n",
            "502/502 [==============================] - ETA: 0s - loss: 0.0181 - accuracy: 0.9954\n",
            "Epoch 24: val_loss did not improve from 0.31318\n",
            "\n",
            "Epoch 24: ReduceLROnPlateau reducing learning rate to 0.00016777217388153076.\n",
            "502/502 [==============================] - 304s 606ms/step - loss: 0.0181 - accuracy: 0.9954 - val_loss: 1.0678 - val_accuracy: 0.8824 - lr: 2.0972e-04\n",
            "Epoch 25/30\n",
            "502/502 [==============================] - ETA: 0s - loss: 0.0107 - accuracy: 0.9970\n",
            "Epoch 25: val_loss did not improve from 0.31318\n",
            "502/502 [==============================] - 305s 608ms/step - loss: 0.0107 - accuracy: 0.9970 - val_loss: 1.2646 - val_accuracy: 0.8844 - lr: 1.6777e-04\n",
            "Epoch 26/30\n",
            "502/502 [==============================] - ETA: 0s - loss: 0.0097 - accuracy: 0.9972\n",
            "Epoch 26: val_loss did not improve from 0.31318\n",
            "\n",
            "Epoch 26: ReduceLROnPlateau reducing learning rate to 0.00013421773910522462.\n",
            "502/502 [==============================] - 304s 606ms/step - loss: 0.0097 - accuracy: 0.9972 - val_loss: 1.2813 - val_accuracy: 0.8854 - lr: 1.6777e-04\n",
            "Epoch 27/30\n",
            "502/502 [==============================] - ETA: 0s - loss: 0.0075 - accuracy: 0.9981\n",
            "Epoch 27: val_loss did not improve from 0.31318\n",
            "502/502 [==============================] - 308s 613ms/step - loss: 0.0075 - accuracy: 0.9981 - val_loss: 1.5059 - val_accuracy: 0.8926 - lr: 1.3422e-04\n",
            "Epoch 28/30\n",
            "502/502 [==============================] - ETA: 0s - loss: 0.0060 - accuracy: 0.9979\n",
            "Epoch 28: val_loss did not improve from 0.31318\n",
            "\n",
            "Epoch 28: ReduceLROnPlateau reducing learning rate to 0.00010737419361248613.\n",
            "502/502 [==============================] - 305s 608ms/step - loss: 0.0060 - accuracy: 0.9979 - val_loss: 1.6230 - val_accuracy: 0.8951 - lr: 1.3422e-04\n",
            "Epoch 29/30\n",
            "502/502 [==============================] - ETA: 0s - loss: 0.0037 - accuracy: 0.9989\n",
            "Epoch 29: val_loss did not improve from 0.31318\n",
            "502/502 [==============================] - 303s 604ms/step - loss: 0.0037 - accuracy: 0.9989 - val_loss: 1.7432 - val_accuracy: 0.8910 - lr: 1.0737e-04\n",
            "Epoch 30/30\n",
            "502/502 [==============================] - ETA: 0s - loss: 0.0057 - accuracy: 0.9986\n",
            "Epoch 30: val_loss did not improve from 0.31318\n",
            "\n",
            "Epoch 30: ReduceLROnPlateau reducing learning rate to 8.589935605414213e-05.\n",
            "502/502 [==============================] - 306s 611ms/step - loss: 0.0057 - accuracy: 0.9986 - val_loss: 1.8009 - val_accuracy: 0.8931 - lr: 1.0737e-04\n"
          ]
        }
      ]
    },
    {
      "cell_type": "code",
      "source": [
        "# evaluate the model produced at the end of the training (not the best, validation loss is high)\n",
        "model.evaluate(X_test, Y_test)"
      ],
      "metadata": {
        "id": "o6ArBax9p4EH",
        "colab": {
          "base_uri": "https://localhost:8080/"
        },
        "outputId": "ba46befb-21c7-49c5-c66e-388a6de5a040"
      },
      "execution_count": null,
      "outputs": [
        {
          "output_type": "stream",
          "name": "stdout",
          "text": [
            "63/63 [==============================] - 18s 278ms/step - loss: 1.9681 - accuracy: 0.8893\n"
          ]
        },
        {
          "output_type": "execute_result",
          "data": {
            "text/plain": [
              "[1.9681059122085571, 0.8893300294876099]"
            ]
          },
          "metadata": {},
          "execution_count": 26
        }
      ]
    },
    {
      "cell_type": "code",
      "source": [
        "plt.figure(figsize=(12,5))\n",
        "plt.title('total loss')\n",
        "plt.plot(history.history['loss'],'bo-',label = 'train_loss')\n",
        "plt.plot(history.history['val_loss'],'b-',label = 'val_loss')\n",
        "plt.ylim(0,2)\n",
        "plt.legend()\n",
        "plt.show()\n",
        "\n",
        "plt.figure(figsize=(12,5))\n",
        "plt.title('accuracy')\n",
        "plt.plot(history.history['accuracy'],'bo-',label = 'train_accuracy')\n",
        "plt.plot(history.history['val_accuracy'],'b-',label = 'val_accuracy')\n",
        "plt.legend()\n",
        "plt.show()"
      ],
      "metadata": {
        "colab": {
          "base_uri": "https://localhost:8080/",
          "height": 919
        },
        "id": "ktWRJO5FsasL",
        "outputId": "df2d3de7-7373-4d31-fb33-2e3c7f0f100e"
      },
      "execution_count": null,
      "outputs": [
        {
          "output_type": "display_data",
          "data": {
            "text/plain": [
              "<Figure size 1200x500 with 1 Axes>"
            ],
            "image/png": "[encoded data removed]"
          },
          "metadata": {}
        },
        {
          "output_type": "display_data",
          "data": {
            "text/plain": [
              "<Figure size 1200x500 with 1 Axes>"
            ],
            "image/png": "[encoded data removed]"
          },
          "metadata": {}
        }
      ]
    },
    {
      "cell_type": "code",
      "source": [
        "from tensorflow.keras.models import load_model\n",
        "\n",
        "# delete the current model\n",
        "del model\n",
        "\n",
        "# load the model saved by the early stopping callback\n",
        "model = load_model(os.path.join(model_dir, experiment))\n",
        "\n",
        "#evaluate the model on the test set (low validation loss)\n",
        "model.evaluate(X_test, Y_test)"
      ],
      "metadata": {
        "colab": {
          "base_uri": "https://localhost:8080/"
        },
        "id": "qxiiwwcTskRU",
        "outputId": "eeb95f30-ccd8-4161-83dc-2f0789c10360"
      },
      "execution_count": null,
      "outputs": [
        {
          "output_type": "stream",
          "name": "stdout",
          "text": [
            "63/63 [==============================] - 8s 124ms/step - loss: 0.3150 - accuracy: 0.8913\n"
          ]
        },
        {
          "output_type": "execute_result",
          "data": {
            "text/plain": [
              "[0.3150006830692291, 0.8913151621818542]"
            ]
          },
          "metadata": {},
          "execution_count": 28
        }
      ]
    },
    {
      "cell_type": "code",
      "source": [
        "from sklearn.metrics import confusion_matrix, ConfusionMatrixDisplay\n",
        "# create and plot the confusion matrix\n",
        "predictions = model(X_test)"
      ],
      "metadata": {
        "id": "iZjOxFhfs1H7"
      },
      "execution_count": null,
      "outputs": []
    },
    {
      "cell_type": "code",
      "source": [
        "result = confusion_matrix(Y_test, np.around(predictions))\n",
        "disp = ConfusionMatrixDisplay(confusion_matrix=result, display_labels=['negative', 'positive'])\n",
        "disp.plot()\n",
        "plt.show()"
      ],
      "metadata": {
        "colab": {
          "base_uri": "https://localhost:8080/",
          "height": 449
        },
        "id": "cFr1zFntFf17",
        "outputId": "ecaa4270-4ab4-4bb3-fc4f-28408eed2471"
      },
      "execution_count": null,
      "outputs": [
        {
          "output_type": "display_data",
          "data": {
            "text/plain": [
              "<Figure size 640x480 with 2 Axes>"
            ],
            "image/png": "[encoded data removed]"
          },
          "metadata": {}
        }
      ]
    },
    {
      "cell_type": "code",
      "source": [
        "# check prediction against true label\n",
        "index_image = 85\n",
        "sample = np.expand_dims(X_test[index_image], axis=0)\n",
        "visualize_image(X_test[index_image])\n",
        "print(\"True emotion is: {}\".format(emotions[Y_test[index_image]]))\n",
        "print(\"Prediction is: {}\".format(model(sample, training=False)))"
      ],
      "metadata": {
        "id": "INpsEfCq-ZIP"
      },
      "execution_count": null,
      "outputs": []
    },
    {
      "cell_type": "code",
      "source": [
        "# save the model to google drive\n",
        "!cp ./models/binary_FER_cnn_3.h5 /content/drive/MyDrive/"
      ],
      "metadata": {
        "id": "HsIOIfsA-h5W"
      },
      "execution_count": null,
      "outputs": []
    }
  ]
}