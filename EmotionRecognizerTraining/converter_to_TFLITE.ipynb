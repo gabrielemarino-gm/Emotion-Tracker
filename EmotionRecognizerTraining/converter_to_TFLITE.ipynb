{
  "nbformat": 4,
  "nbformat_minor": 0,
  "metadata": {
    "colab": {
      "provenance": []
    },
    "kernelspec": {
      "name": "python3",
      "display_name": "Python 3"
    },
    "language_info": {
      "name": "python"
    }
  },
  "cells": [
    {
      "cell_type": "code",
      "execution_count": null,
      "metadata": {
        "colab": {
          "base_uri": "https://localhost:8080/"
        },
        "id": "SJtG8YTa1Sxh",
        "outputId": "51a06aa8-a5c9-4568-e258-799371bf7083"
      },
      "outputs": [
        {
          "output_type": "stream",
          "name": "stdout",
          "text": [
            "Mounted at /content/drive\n"
          ]
        }
      ],
      "source": [
        "import tensorflow as tf\n",
        "from google.colab import drive\n",
        "drive.mount('/content/drive')"
      ]
    },
    {
      "cell_type": "code",
      "source": [
        "# copy model in Google Colab vm\n",
        "!cp /content/drive/MyDrive/binary_FER_cnn_3.h5 ."
      ],
      "metadata": {
        "id": "DcIcNvb81bsS"
      },
      "execution_count": null,
      "outputs": []
    },
    {
      "cell_type": "code",
      "source": [
        "from keras.models import load_model\n",
        "# load model\n",
        "model = load_model('binary_FER_cnn_3.h5')"
      ],
      "metadata": {
        "id": "DNVTbewg23BI"
      },
      "execution_count": null,
      "outputs": []
    },
    {
      "cell_type": "code",
      "source": [
        "model.summary()"
      ],
      "metadata": {
        "colab": {
          "base_uri": "https://localhost:8080/"
        },
        "id": "kjwZZYKE27X0",
        "outputId": "0e6b446e-7db0-4351-d9c2-820f10424b4d"
      },
      "execution_count": null,
      "outputs": [
        {
          "output_type": "stream",
          "name": "stdout",
          "text": [
            "Model: \"model_2\"\n",
            "_________________________________________________________________\n",
            " Layer (type)                Output Shape              Param #   \n",
            "=================================================================\n",
            " input (InputLayer)          [(None, 48, 48, 1)]       0         \n",
            "                                                                 \n",
            " conv2d_12 (Conv2D)          (None, 46, 46, 32)        320       \n",
            "                                                                 \n",
            " conv2d_13 (Conv2D)          (None, 44, 44, 64)        18496     \n",
            "                                                                 \n",
            " max_pooling2d_6 (MaxPooling  (None, 22, 22, 64)       0         \n",
            " 2D)                                                             \n",
            "                                                                 \n",
            " conv2d_14 (Conv2D)          (None, 20, 20, 64)        36928     \n",
            "                                                                 \n",
            " conv2d_15 (Conv2D)          (None, 18, 18, 128)       73856     \n",
            "                                                                 \n",
            " max_pooling2d_7 (MaxPooling  (None, 9, 9, 128)        0         \n",
            " 2D)                                                             \n",
            "                                                                 \n",
            " conv2d_16 (Conv2D)          (None, 7, 7, 128)         147584    \n",
            "                                                                 \n",
            " conv2d_17 (Conv2D)          (None, 5, 5, 256)         295168    \n",
            "                                                                 \n",
            " max_pooling2d_8 (MaxPooling  (None, 2, 2, 256)        0         \n",
            " 2D)                                                             \n",
            "                                                                 \n",
            " flatten_2 (Flatten)         (None, 1024)              0         \n",
            "                                                                 \n",
            " dropout_2 (Dropout)         (None, 1024)              0         \n",
            "                                                                 \n",
            " dense_4 (Dense)             (None, 32)                32800     \n",
            "                                                                 \n",
            " dense_5 (Dense)             (None, 1)                 33        \n",
            "                                                                 \n",
            "=================================================================\n",
            "Total params: 605,185\n",
            "Trainable params: 605,185\n",
            "Non-trainable params: 0\n",
            "_________________________________________________________________\n"
          ]
        }
      ]
    },
    {
      "cell_type": "code",
      "source": [
        "# save model in tensorflow format\n",
        "model.save(\"model_3\")"
      ],
      "metadata": {
        "colab": {
          "base_uri": "https://localhost:8080/"
        },
        "id": "Gqn4Bbbr3P1z",
        "outputId": "0b652328-8b7f-49bf-9119-4cb8d929ea95"
      },
      "execution_count": null,
      "outputs": [
        {
          "output_type": "stream",
          "name": "stderr",
          "text": [
            "WARNING:absl:Found untraced functions such as _jit_compiled_convolution_op, _jit_compiled_convolution_op, _jit_compiled_convolution_op, _jit_compiled_convolution_op, _jit_compiled_convolution_op while saving (showing 5 of 7). These functions will not be directly callable after loading.\n"
          ]
        }
      ]
    },
    {
      "cell_type": "code",
      "source": [
        "converter = tf.lite.TFLiteConverter.from_saved_model(\"model_3\") # path to the SavedModel directory\n",
        "tflite_model = converter.convert()\n",
        "\n",
        "# Save the model in tflite format (without metadata for the moment)\n",
        "with open('model.tflite', 'wb') as f:\n",
        "  f.write(tflite_model)"
      ],
      "metadata": {
        "id": "KC6tj4MY11Z8"
      },
      "execution_count": null,
      "outputs": []
    },
    {
      "cell_type": "code",
      "source": [
        "!pip install tflite-support"
      ],
      "metadata": {
        "colab": {
          "base_uri": "https://localhost:8080/"
        },
        "id": "1Tz5WLANW-Km",
        "outputId": "d93e4fb9-cf2e-4a29-9d03-c6a97c41f167"
      },
      "execution_count": null,
      "outputs": [
        {
          "output_type": "stream",
          "name": "stdout",
          "text": [
            "Looking in indexes: https://pypi.org/simple, https://us-python.pkg.dev/colab-wheels/public/simple/\n",
            "Collecting tflite-support\n",
            "  Downloading tflite-support-0.1.0a1.tar.gz (390 kB)\n",
            "\u001b[2K     \u001b[90m━━━━━━━━━━━━━━━━━━━━━━━━━━━━━━━━━━━━━━\u001b[0m \u001b[32m390.3/390.3 kB\u001b[0m \u001b[31m26.7 MB/s\u001b[0m eta \u001b[36m0:00:00\u001b[0m\n",
            "\u001b[?25h  Preparing metadata (setup.py) ... \u001b[?25l\u001b[?25hdone\n",
            "Collecting pybind11>=2.4\n",
            "  Using cached pybind11-2.10.4-py3-none-any.whl (222 kB)\n",
            "Requirement already satisfied: absl-py>=0.7.0 in /usr/local/lib/python3.10/dist-packages (from tflite-support) (1.4.0)\n",
            "Requirement already satisfied: numpy in /usr/local/lib/python3.10/dist-packages (from tflite-support) (1.22.4)\n",
            "Building wheels for collected packages: tflite-support\n",
            "  Building wheel for tflite-support (setup.py) ... \u001b[?25l\u001b[?25hdone\n",
            "  Created wheel for tflite-support: filename=tflite_support-0.1.0a1-cp310-cp310-linux_x86_64.whl size=5942520 sha256=ae2a93664d4af3b4b47b063319e6df21bf06304dbdcfa9c85c1a11d5eb2049a5\n",
            "  Stored in directory: /root/.cache/pip/wheels/71/5c/da/9e5e661ec26e03ee57e69428d40fffbefe3c0aff649c55776d\n",
            "Successfully built tflite-support\n",
            "Installing collected packages: pybind11, tflite-support\n",
            "Successfully installed pybind11-2.10.4 tflite-support-0.1.0a1\n"
          ]
        }
      ]
    },
    {
      "cell_type": "code",
      "source": [
        "from tflite_support import flatbuffers\n",
        "from tflite_support import metadata as _metadata\n",
        "from tflite_support import metadata_schema_py_generated as _metadata_fb\n",
        "\n",
        "\"\"\"Creates the metadata: needed for the model to work properly in Android\"\"\"\n",
        "\n",
        "# Creates model info, not important for working properly\n",
        "model_meta = _metadata_fb.ModelMetadataT()\n",
        "model_meta.name = \"Classifier\"\n",
        "model_meta.description = (\"Ciao\")\n",
        "model_meta.version = \"v1\"\n",
        "model_meta.author = \"Io\"\n",
        "model_meta.license = (\"Apache License. Version 2.0 \"\n",
        "                      \"http://www.apache.org/licenses/LICENSE-2.0.\")"
      ],
      "metadata": {
        "id": "SEOPUokh5PCu"
      },
      "execution_count": null,
      "outputs": []
    },
    {
      "cell_type": "code",
      "source": [
        "# Creates input info.\n",
        "input_meta = _metadata_fb.TensorMetadataT()\n",
        "\n",
        "# Creates output info.\n",
        "output_meta = _metadata_fb.TensorMetadataT()"
      ],
      "metadata": {
        "id": "E89bLCZJW1h_"
      },
      "execution_count": null,
      "outputs": []
    },
    {
      "cell_type": "code",
      "source": [
        "# code adapted from https://www.tensorflow.org/lite/models/convert/metadata\n",
        "input_meta.name = \"image\"\n",
        "input_meta.description = (\n",
        "    \"Input image to be classified. The expected image is {0} x {1}, with \"\n",
        "    \"one. Each value in the \"\n",
        "    \"tensor is a single byte between 0 and 255.\".format(48, 48))\n",
        "input_meta.content = _metadata_fb.ContentT()\n",
        "input_meta.content.contentProperties = _metadata_fb.ImagePropertiesT()\n",
        "input_meta.content.contentProperties.colorSpace = (\n",
        "    _metadata_fb.ColorSpaceType.GRAYSCALE)\n",
        "input_meta.content.contentPropertiesType = (\n",
        "    _metadata_fb.ContentProperties.ImageProperties)\n",
        "input_normalization = _metadata_fb.ProcessUnitT()\n",
        "input_normalization.optionsType = (\n",
        "    _metadata_fb.ProcessUnitOptions.NormalizationOptions)\n",
        "input_normalization.options = _metadata_fb.NormalizationOptionsT()\n",
        "input_normalization.options.mean = [127.5]\n",
        "input_normalization.options.std = [127.5]\n",
        "input_meta.processUnits = [input_normalization]\n",
        "input_stats = _metadata_fb.StatsT()\n",
        "input_stats.max = [255]\n",
        "input_stats.min = [0]\n",
        "input_meta.stats = input_stats"
      ],
      "metadata": {
        "id": "sGuU5sw_asdu"
      },
      "execution_count": null,
      "outputs": []
    },
    {
      "cell_type": "code",
      "source": [
        "import os\n",
        "# code adapted from https://www.tensorflow.org/lite/models/convert/metadata\n",
        "output_meta = _metadata_fb.TensorMetadataT()\n",
        "output_meta.name = \"probability\"\n",
        "output_meta.description = \"Probabilities of the 1001 labels respectively.\"\n",
        "output_meta.content = _metadata_fb.ContentT()\n",
        "output_meta.content.content_properties = _metadata_fb.FeaturePropertiesT()\n",
        "output_meta.content.contentPropertiesType = (\n",
        "    _metadata_fb.ContentProperties.FeatureProperties)\n",
        "output_stats = _metadata_fb.StatsT()\n",
        "output_stats.max = [1.0]\n",
        "output_stats.min = [0.0]\n",
        "output_meta.stats = output_stats\n",
        "label_file = _metadata_fb.AssociatedFileT()\n",
        "label_file.name = os.path.basename(\"labels.txt\")\n",
        "label_file.description = \"Labels for objects that the model can recognize.\"\n",
        "label_file.type = _metadata_fb.AssociatedFileType.TENSOR_AXIS_LABELS\n",
        "output_meta.associatedFiles = [label_file]"
      ],
      "metadata": {
        "id": "Xx3pxkzLa6b8"
      },
      "execution_count": null,
      "outputs": []
    },
    {
      "cell_type": "code",
      "source": [
        "# Creates subgraph info.\n",
        "subgraph = _metadata_fb.SubGraphMetadataT()\n",
        "subgraph.inputTensorMetadata = [input_meta]\n",
        "subgraph.outputTensorMetadata = [output_meta]\n",
        "model_meta.subgraphMetadata = [subgraph]\n",
        "\n",
        "b = flatbuffers.Builder(0)\n",
        "b.Finish(\n",
        "    model_meta.Pack(b),\n",
        "    _metadata.MetadataPopulator.METADATA_FILE_IDENTIFIER)\n",
        "metadata_buf = b.Output()"
      ],
      "metadata": {
        "id": "OklyRh7RbCAw"
      },
      "execution_count": null,
      "outputs": []
    },
    {
      "cell_type": "code",
      "source": [
        "# get the previously saved model and load metadata in it\n",
        "populator = _metadata.MetadataPopulator.with_model_file(\"model.tflite\")\n",
        "populator.load_metadata_buffer(metadata_buf)\n",
        "populator.load_associated_files([\"labels.txt\"])\n",
        "populator.populate()"
      ],
      "metadata": {
        "id": "ebv_Iw8LbEBr"
      },
      "execution_count": null,
      "outputs": []
    }
  ]
}